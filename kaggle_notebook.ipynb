{
 "cells": [
  {
   "cell_type": "code",
   "execution_count": null,
   "id": "8616ee6f-58a5-40de-969b-3928862c204f",
   "metadata": {},
   "outputs": [],
   "source": [
    "import pandas as pd\n",
    "import pickle\n",
    "import re"
   ]
  },
  {
   "cell_type": "code",
   "execution_count": null,
   "id": "9fe8064d-5f63-4a55-a0eb-4ed7447607d2",
   "metadata": {},
   "outputs": [],
   "source": [
    "def two_char_word_tokenizer(text):\n",
    "    # Split text into words based on whitespace and remove punctuation\n",
    "    words = re.findall(r'\\b\\w+\\b', text.lower())\n",
    "    two_char_tokens = [word[i:i + 2] for word in words for i in range(len(word) - 1)]\n",
    "    return two_char_tokens"
   ]
  },
  {
   "cell_type": "code",
   "execution_count": null,
   "id": "703467fd-23bd-4067-9166-7476fb3a032e",
   "metadata": {},
   "outputs": [],
   "source": [
    "df = pd.read_csv('/kaggle/input/llm-detect-ai-generated-text/test_essays.csv')\n",
    "with open('/kaggle/input/regression/model_reg5_gs.pkl', 'rb') as file:\n",
    "    model = pickle.load(file)\n",
    "predictions = model.predict_proba(df['text'])[:, 1]\n",
    "submission = pd.DataFrame({'id': df['id'], 'generated': predictions})\n",
    "print(submission)\n",
    "submission.to_csv('/kaggle/working/submission.csv', index=False)"
   ]
  }
 ],
 "metadata": {
  "kernelspec": {
   "display_name": "Python 3 (ipykernel)",
   "language": "python",
   "name": "python3"
  },
  "language_info": {
   "codemirror_mode": {
    "name": "ipython",
    "version": 3
   },
   "file_extension": ".py",
   "mimetype": "text/x-python",
   "name": "python",
   "nbconvert_exporter": "python",
   "pygments_lexer": "ipython3",
   "version": "3.10.4"
  }
 },
 "nbformat": 4,
 "nbformat_minor": 5
}
